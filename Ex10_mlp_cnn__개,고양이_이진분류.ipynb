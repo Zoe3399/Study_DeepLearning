{
  "nbformat": 4,
  "nbformat_minor": 0,
  "metadata": {
    "colab": {
      "provenance": [],
      "gpuType": "T4",
      "toc_visible": true,
      "authorship_tag": "ABX9TyO+8d+V7lU0um5qc5NyvjyI",
      "include_colab_link": true
    },
    "kernelspec": {
      "name": "python3",
      "display_name": "Python 3"
    },
    "language_info": {
      "name": "python"
    },
    "accelerator": "GPU"
  },
  "cells": [
    {
      "cell_type": "markdown",
      "metadata": {
        "id": "view-in-github",
        "colab_type": "text"
      },
      "source": [
        "<a href=\"https://colab.research.google.com/github/Zoe3399/Study_DeepLearning/blob/main/Ex10_mlp_cnn__%EA%B0%9C%2C%EA%B3%A0%EC%96%91%EC%9D%B4_%EC%9D%B4%EC%A7%84%EB%B6%84%EB%A5%98.ipynb\" target=\"_parent\"><img src=\"https://colab.research.google.com/assets/colab-badge.svg\" alt=\"Open In Colab\"/></a>"
      ]
    },
    {
      "cell_type": "code",
      "execution_count": null,
      "metadata": {
        "colab": {
          "base_uri": "https://localhost:8080/"
        },
        "id": "BvkW1Mg6IIBb",
        "outputId": "615159a1-693a-4754-ab59-b31c532ed803"
      },
      "outputs": [
        {
          "output_type": "stream",
          "name": "stdout",
          "text": [
            "Mounted at /content/drive\n"
          ]
        }
      ],
      "source": [
        "# 드라이브 연동\n",
        "# 경로 딥러닝 폴더 이동\n",
        "\n",
        "from google.colab import drive\n",
        "drive.mount('/content/drive')"
      ]
    },
    {
      "cell_type": "code",
      "source": [
        "%cd /content/drive/MyDrive/.commit/"
      ],
      "metadata": {
        "colab": {
          "base_uri": "https://localhost:8080/"
        },
        "id": "4HNI_N65IKlG",
        "outputId": "5f667843-82de-47a8-b638-0a7edb6ed5d5"
      },
      "execution_count": null,
      "outputs": [
        {
          "output_type": "stream",
          "name": "stdout",
          "text": [
            "/content/drive/MyDrive/.딥러닝\n"
          ]
        }
      ]
    },
    {
      "cell_type": "code",
      "source": [
        "# 개, 고양이 데이터 불러오기\n",
        "import numpy as np\n",
        "import pandas as pd\n",
        "import matplotlib.pyplot as plt"
      ],
      "metadata": {
        "id": "0TLdTEcvIMUV"
      },
      "execution_count": null,
      "outputs": []
    },
    {
      "cell_type": "code",
      "source": [
        "data = np.load('./Data/np_cat_vs_dog.npz')\n",
        "data"
      ],
      "metadata": {
        "colab": {
          "base_uri": "https://localhost:8080/"
        },
        "id": "FgcS2R__IRwy",
        "outputId": "454ca056-52c9-43e9-f6b8-355dbf570e94"
      },
      "execution_count": null,
      "outputs": [
        {
          "output_type": "execute_result",
          "data": {
            "text/plain": [
              "<numpy.lib.npyio.NpzFile at 0x79069f0bafe0>"
            ]
          },
          "metadata": {},
          "execution_count": 20
        }
      ]
    },
    {
      "cell_type": "code",
      "source": [
        "len(data)"
      ],
      "metadata": {
        "colab": {
          "base_uri": "https://localhost:8080/"
        },
        "id": "m4U4yGbuJEKv",
        "outputId": "f6fb5912-7c1a-428b-b6a9-509388c9664b"
      },
      "execution_count": null,
      "outputs": [
        {
          "output_type": "execute_result",
          "data": {
            "text/plain": [
              "4"
            ]
          },
          "metadata": {},
          "execution_count": 21
        }
      ]
    },
    {
      "cell_type": "code",
      "source": [
        "# 각각의 변수에 데이터 분리해서 담아주기\n",
        "X_train = data['X_train']\n",
        "X_test = data['X_test']\n",
        "\n",
        "y_train = data['y_train']\n",
        "y_test = data['y_test']\n",
        "\n",
        "# 크기 확인\n",
        "print(\"훈련셋 : \", X_train.shape, y_train.shape)\n",
        "print(\"테스트셋 :\", X_test.shape, y_test.shape)"
      ],
      "metadata": {
        "colab": {
          "base_uri": "https://localhost:8080/"
        },
        "id": "SzZeP1yGJGU8",
        "outputId": "85508ba6-94d0-48bd-bc17-f043e261efbd"
      },
      "execution_count": null,
      "outputs": [
        {
          "output_type": "stream",
          "name": "stdout",
          "text": [
            "훈련셋 :  (2000, 224, 224, 3) (2000,)\n",
            "테스트셋 : (1000, 224, 224, 3) (1000,)\n"
          ]
        }
      ]
    },
    {
      "cell_type": "markdown",
      "source": [
        "# mlp 모델 생성"
      ],
      "metadata": {
        "id": "cGsSj9X2JyHl"
      }
    },
    {
      "cell_type": "code",
      "source": [
        "from tensorflow.keras import Sequential\n",
        "from tensorflow.keras.layers import Dense, Flatten # 1차원 펴주는 도구\n",
        "from tensorflow.keras.callbacks import EarlyStopping # 조기 학습 중단 도구"
      ],
      "metadata": {
        "id": "KEakZ4M2Jxcm"
      },
      "execution_count": null,
      "outputs": []
    },
    {
      "cell_type": "code",
      "source": [
        "# 1. 모델 설계\n",
        "# 뼈대 구축\n",
        "mlp_model = Sequential()\n",
        "# 입력(3-> 1)\n",
        "mlp_model.add(Flatten(input_shape = (224,224,3))) #행, 열, 채널수(컬러3)\n",
        "\n",
        "# 중간층\n",
        "mlp_model.add(Dense(256,activation = 'relu'))\n",
        "mlp_model.add(Dense(128,activation = 'relu'))\n",
        "mlp_model.add(Dense(64,activation = 'relu'))\n",
        "\n",
        "# 출력층(분류?)\n",
        "mlp_model.add(Dense(1, activation = 'sigmoid'))\n",
        "mlp_model.summary()"
      ],
      "metadata": {
        "colab": {
          "base_uri": "https://localhost:8080/"
        },
        "id": "sCsx4Vp8JxaS",
        "outputId": "d9377c79-1d06-48cb-9385-4656558bbb3f"
      },
      "execution_count": null,
      "outputs": [
        {
          "output_type": "stream",
          "name": "stdout",
          "text": [
            "Model: \"sequential\"\n",
            "_________________________________________________________________\n",
            " Layer (type)                Output Shape              Param #   \n",
            "=================================================================\n",
            " flatten (Flatten)           (None, 150528)            0         \n",
            "                                                                 \n",
            " dense (Dense)               (None, 256)               38535424  \n",
            "                                                                 \n",
            " dense_1 (Dense)             (None, 128)               32896     \n",
            "                                                                 \n",
            " dense_2 (Dense)             (None, 64)                8256      \n",
            "                                                                 \n",
            " dense_3 (Dense)             (None, 1)                 65        \n",
            "                                                                 \n",
            "=================================================================\n",
            "Total params: 38576641 (147.16 MB)\n",
            "Trainable params: 38576641 (147.16 MB)\n",
            "Non-trainable params: 0 (0.00 Byte)\n",
            "_________________________________________________________________\n"
          ]
        }
      ]
    },
    {
      "cell_type": "code",
      "source": [
        "# 번역 compile\n",
        "# pc가 이해하도록 번역하는 작업\n",
        "# loss, optimizer, metrics 설정\n",
        "# 이진 분류\n",
        "mlp_model.compile(loss = 'binary_crossentropy',\n",
        "                  optimizer = 'adam',\n",
        "                  metrics = ['accuracy'])"
      ],
      "metadata": {
        "id": "MSBszPTtJxXZ"
      },
      "execution_count": null,
      "outputs": []
    },
    {
      "cell_type": "code",
      "source": [
        "from IPython.core.magic import validate_type\n",
        "from traitlets.traitlets import validate\n",
        "#조기학습 중단 설정\n",
        "# 검증 정확도 기준, 5번 기다림\n",
        "f_ea = EarlyStopping(monitor='val_accuracy', patience = 5)"
      ],
      "metadata": {
        "id": "7-rZvxwdJxTf"
      },
      "execution_count": null,
      "outputs": []
    },
    {
      "cell_type": "code",
      "source": [
        "# 학습, 검증데이터 분리 30%, batch_size 64, 반복횟수 50, 조기학습중단 연결\n",
        "mlp_his = mlp_model.fit(X_train, y_train,\n",
        "                        validation_split = 0.3,\n",
        "                        batch_size = 64,\n",
        "                        epochs = 50,\n",
        "                        callbacks = [f_ea])"
      ],
      "metadata": {
        "colab": {
          "base_uri": "https://localhost:8080/"
        },
        "id": "v9elZS6NJxQ5",
        "outputId": "d35b0137-1c1e-4415-dad1-4c35dd097ad5"
      },
      "execution_count": null,
      "outputs": [
        {
          "output_type": "stream",
          "name": "stdout",
          "text": [
            "Epoch 1/50\n",
            "22/22 [==============================] - 7s 41ms/step - loss: 2849.1799 - accuracy: 0.5771 - val_loss: 3674.2876 - val_accuracy: 0.0000e+00\n",
            "Epoch 2/50\n",
            "22/22 [==============================] - 1s 24ms/step - loss: 2011.3843 - accuracy: 0.6157 - val_loss: 0.0000e+00 - val_accuracy: 1.0000\n",
            "Epoch 3/50\n",
            "22/22 [==============================] - 0s 23ms/step - loss: 1690.7632 - accuracy: 0.5629 - val_loss: 1455.5076 - val_accuracy: 0.0100\n",
            "Epoch 4/50\n",
            "22/22 [==============================] - 0s 22ms/step - loss: 271.6706 - accuracy: 0.6507 - val_loss: 0.7515 - val_accuracy: 0.9917\n",
            "Epoch 5/50\n",
            "22/22 [==============================] - 1s 23ms/step - loss: 576.2346 - accuracy: 0.5643 - val_loss: 0.8565 - val_accuracy: 0.9900\n",
            "Epoch 6/50\n",
            "22/22 [==============================] - 1s 27ms/step - loss: 126.7212 - accuracy: 0.6621 - val_loss: 248.0348 - val_accuracy: 0.2017\n",
            "Epoch 7/50\n",
            "22/22 [==============================] - 1s 25ms/step - loss: 135.0614 - accuracy: 0.6500 - val_loss: 6.8920 - val_accuracy: 0.9367\n"
          ]
        }
      ]
    },
    {
      "cell_type": "code",
      "source": [
        "# test 데이터 활용해서 평가하기\n",
        "# 모델.score(문제, 답) - > 머신 러닝 모델 평가하는 함수 (sklearn)\n",
        "# 모델.evaluate(문제, 답) - > 딥러닝 모델 평가하는 함수 (tensorflow.keras)\n",
        "mlp_model.evaluate(X_test, y_test)"
      ],
      "metadata": {
        "colab": {
          "base_uri": "https://localhost:8080/"
        },
        "id": "Yss8-Av8JxIc",
        "outputId": "cb9f05dc-6166-4621-9888-17f426e1b334"
      },
      "execution_count": null,
      "outputs": [
        {
          "output_type": "stream",
          "name": "stdout",
          "text": [
            "32/32 [==============================] - 0s 6ms/step - loss: 138.2711 - accuracy: 0.5280\n"
          ]
        },
        {
          "output_type": "execute_result",
          "data": {
            "text/plain": [
              "[138.2710723876953, 0.527999997138977]"
            ]
          },
          "metadata": {},
          "execution_count": 31
        }
      ]
    },
    {
      "cell_type": "markdown",
      "source": [
        "#### cnn 모델 생성\n",
        "  1. 모델 설계 (cnn층)\n",
        "  2. 모델 학습 및 평가 방법 설정\n",
        "  3. 모델 학습 및 시각화\n",
        "  4. 모델 평가 및 예측"
      ],
      "metadata": {
        "id": "_XDfzAGcJvy2"
      }
    },
    {
      "cell_type": "code",
      "source": [
        "from tensorflow.keras import Sequential\n",
        "from tensorflow.keras.layers import Dense, Flatten, Conv2D, MaxPooling2D, Dropout"
      ],
      "metadata": {
        "id": "qrxNt49mTqkB"
      },
      "execution_count": null,
      "outputs": []
    },
    {
      "cell_type": "code",
      "source": [
        "#cnn 신경망 구조를 설계\n",
        "# 뼈대 생성\n",
        "cnn_model = Sequential()\n",
        "\n",
        "# 대상에 집중 ! -> 중요한 특성에 집중 ! -> 특성 추출\n",
        "# 특성 추출부(층) - conv(합성곱)\n",
        "cnn_model.add(Conv2D(32, (3,3), padding = 'same', input_shape = (224, 224, 3), activation = 'relu'))\n",
        "cnn_model.add(MaxPooling2D(pool_size = 2))\n",
        "\n",
        "cnn_model.add(Conv2D(64, (3,3), padding = 'same', activation = 'relu'))\n",
        "cnn_model.add(MaxPooling2D(pool_size = 2))\n",
        "\n",
        "cnn_model.add(Conv2D(128, (3,3), padding = 'same', activation = 'relu'))\n",
        "cnn_model.add(MaxPooling2D(pool_size = 2))\n",
        "\n",
        "# 개, 고양이 분류부(층) - mlp(입력(1차원펴주는 기능), 중간, 출력층(이진분류))\n",
        "cnn_model.add(Flatten()) # 1차원으로 펴!\n",
        "cnn_model.add(Dense(512, activation = 'relu')) # 중간층\n",
        "cnn_model.add(Dense(1, activation = 'sigmoid')) # 출력층\n",
        "\n",
        "# 모델 정보 확인\n",
        "cnn_model.summary()"
      ],
      "metadata": {
        "colab": {
          "base_uri": "https://localhost:8080/"
        },
        "id": "OW1bLk_0UxIG",
        "outputId": "d26fbcf9-794d-4514-94eb-763d8505fc19"
      },
      "execution_count": null,
      "outputs": [
        {
          "output_type": "stream",
          "name": "stdout",
          "text": [
            "Model: \"sequential_4\"\n",
            "_________________________________________________________________\n",
            " Layer (type)                Output Shape              Param #   \n",
            "=================================================================\n",
            " conv2d_6 (Conv2D)           (None, 224, 224, 32)      896       \n",
            "                                                                 \n",
            " max_pooling2d_3 (MaxPoolin  (None, 112, 112, 32)      0         \n",
            " g2D)                                                            \n",
            "                                                                 \n",
            " conv2d_7 (Conv2D)           (None, 112, 112, 64)      18496     \n",
            "                                                                 \n",
            " max_pooling2d_4 (MaxPoolin  (None, 56, 56, 64)        0         \n",
            " g2D)                                                            \n",
            "                                                                 \n",
            " conv2d_8 (Conv2D)           (None, 56, 56, 128)       73856     \n",
            "                                                                 \n",
            " max_pooling2d_5 (MaxPoolin  (None, 28, 28, 128)       0         \n",
            " g2D)                                                            \n",
            "                                                                 \n",
            " flatten_1 (Flatten)         (None, 100352)            0         \n",
            "                                                                 \n",
            " dense_4 (Dense)             (None, 512)               51380736  \n",
            "                                                                 \n",
            " dense_5 (Dense)             (None, 1)                 513       \n",
            "                                                                 \n",
            "=================================================================\n",
            "Total params: 51474497 (196.36 MB)\n",
            "Trainable params: 51474497 (196.36 MB)\n",
            "Non-trainable params: 0 (0.00 Byte)\n",
            "_________________________________________________________________\n"
          ]
        }
      ]
    },
    {
      "cell_type": "code",
      "source": [
        "# complie\n",
        "cnn_model.compile(loss = 'binary_crossentropy',\n",
        "                  optimizer = 'adam',\n",
        "                  metrics = ['accuracy'])\n",
        "\n",
        "# fit\n",
        "cnn_his = cnn_model.fit(X_train, y_train,\n",
        "                        validation_split = 0.3,\n",
        "                        epochs = 50, batch_size = 64,\n",
        "                        callbacks = [f_ea])"
      ],
      "metadata": {
        "colab": {
          "base_uri": "https://localhost:8080/"
        },
        "id": "rRtbQL9gWhWd",
        "outputId": "e11b5440-13fc-497b-81da-3cc886dd410a"
      },
      "execution_count": null,
      "outputs": [
        {
          "output_type": "stream",
          "name": "stdout",
          "text": [
            "Epoch 1/50\n",
            "22/22 [==============================] - 13s 199ms/step - loss: 129.2666 - accuracy: 0.6086 - val_loss: 1.4386 - val_accuracy: 0.0033\n",
            "Epoch 2/50\n",
            "22/22 [==============================] - 2s 104ms/step - loss: 0.5775 - accuracy: 0.7336 - val_loss: 1.1904 - val_accuracy: 0.1883\n",
            "Epoch 3/50\n",
            "22/22 [==============================] - 2s 102ms/step - loss: 0.4041 - accuracy: 0.8236 - val_loss: 1.1390 - val_accuracy: 0.4333\n",
            "Epoch 4/50\n",
            "22/22 [==============================] - 2s 98ms/step - loss: 0.2824 - accuracy: 0.8800 - val_loss: 2.7546 - val_accuracy: 0.0750\n",
            "Epoch 5/50\n",
            "22/22 [==============================] - 2s 97ms/step - loss: 0.2017 - accuracy: 0.9243 - val_loss: 2.3208 - val_accuracy: 0.2700\n",
            "Epoch 6/50\n",
            "22/22 [==============================] - 2s 98ms/step - loss: 0.1224 - accuracy: 0.9529 - val_loss: 3.6134 - val_accuracy: 0.2833\n",
            "Epoch 7/50\n",
            "22/22 [==============================] - 2s 107ms/step - loss: 0.0955 - accuracy: 0.9729 - val_loss: 3.6418 - val_accuracy: 0.1850\n",
            "Epoch 8/50\n",
            "22/22 [==============================] - 2s 100ms/step - loss: 0.0705 - accuracy: 0.9779 - val_loss: 4.0954 - val_accuracy: 0.3583\n"
          ]
        }
      ]
    },
    {
      "cell_type": "code",
      "source": [
        "# 과대적합 보여짐\n",
        "# 왜 이렇게 학습했을까?\n",
        "# cnn 특성에 집중 -> val 예측 성능은 떨어지는 상태\n",
        "# 데이터는 복잡한 데이터일 수 있음\n",
        "# 반대로 모델은 너무 단순할 수 있음\n",
        "# 평가\n",
        "cnn_model.evaluate(X_test, y_test)[1] # 60%"
      ],
      "metadata": {
        "colab": {
          "base_uri": "https://localhost:8080/"
        },
        "id": "etPQKDToYG5o",
        "outputId": "76a816f4-6822-45cb-fcee-2be7301c99c7"
      },
      "execution_count": null,
      "outputs": [
        {
          "output_type": "stream",
          "name": "stdout",
          "text": [
            "32/32 [==============================] - 1s 19ms/step - loss: 2.1362 - accuracy: 0.6010\n"
          ]
        },
        {
          "output_type": "execute_result",
          "data": {
            "text/plain": [
              "0.6010000109672546"
            ]
          },
          "metadata": {},
          "execution_count": 44
        }
      ]
    },
    {
      "cell_type": "markdown",
      "source": [
        "## 2023.09.13 수업 시작"
      ],
      "metadata": {
        "id": "Uwf0KW4ihfho"
      }
    },
    {
      "cell_type": "code",
      "source": [],
      "metadata": {
        "id": "aOIBH7yfYVgJ"
      },
      "execution_count": null,
      "outputs": []
    }
  ]
}